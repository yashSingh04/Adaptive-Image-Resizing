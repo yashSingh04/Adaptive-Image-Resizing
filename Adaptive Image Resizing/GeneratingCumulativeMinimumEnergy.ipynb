{
 "cells": [
  {
   "cell_type": "code",
   "execution_count": 4,
   "metadata": {},
   "outputs": [],
   "source": [
    "from PIL import Image\n",
    "import sys\n",
    "import numpy as np\n",
    "from src.helper import readImage, RGBtoGRAY, makeShape8Divisible, changeRange, removePadding, sharpenImage,saveImage\n",
    "import matplotlib.pyplot as plt\n",
    "from scipy.fftpack import dct, dst\n",
    "from src.seam import removeSeam, insertSeam\n",
    "from src.transforms import DCT, DST \n",
    "import os\n",
    "from pathlib import Path\n",
    "import matplotlib.pyplot as plt\n"
   ]
  },
  {
   "cell_type": "code",
   "execution_count": 2,
   "metadata": {},
   "outputs": [],
   "source": [
    "def dynamicCost(ImportanceMap,h,w):\n",
    "    costArray=np.zeros((h,w))\n",
    "    costArray[-1,:]=np.array(ImportanceMap[-1])\n",
    "    paths=[[] for i in range(w)]\n",
    "    \n",
    "    for i in range(h-2,-2,-1):\n",
    "        # for first column\n",
    "        m=0 if(costArray[i+1,0]<costArray[i+1,1]) else 1\n",
    "        if(i<0):\n",
    "            paths[0]=paths[m][:h-2-i].copy()\n",
    "            paths[0].append((i+1,m))\n",
    "        else:\n",
    "            costArray[i,0] = ImportanceMap[i][0] + costArray[i+1,m]\n",
    "            paths[0]=paths[m][:h-2-i].copy()\n",
    "            paths[0].append((i+1,m))\n",
    "        \n",
    "        # for last column\n",
    "        m=-1 if(costArray[i+1,-1]<costArray[i+1,-2]) else -2\n",
    "        if(i<0):\n",
    "            paths[-1].append((i+1,m))\n",
    "        else:\n",
    "            costArray[i,-1] = ImportanceMap[i][-1] + costArray[i+1,m]\n",
    "            paths[-1].append((i+1,m))\n",
    "\n",
    "        #for rest of the columns\n",
    "        for j in range(1,w-1,1):\n",
    "            m=j-1 if(costArray[i+1,j-1]<costArray[i+1,j] and costArray[i+1,j-1]<costArray[i+1,j+1]) else j if(costArray[i+1,j]<costArray[i+1,j+1]) else j+1\n",
    "            if(i<0):\n",
    "                paths[j]=paths[m][:h-2-i].copy()\n",
    "                paths[j].append((i+1,m))\n",
    "            else:\n",
    "                costArray[i,j] = ImportanceMap[i][j] + costArray[i+1,m]\n",
    "                paths[j]=paths[m][:h-2-i].copy()\n",
    "                paths[j].append((i+1,m))\n",
    "    \n",
    "    return (costArray,paths)"
   ]
  },
  {
   "cell_type": "code",
   "execution_count": 5,
   "metadata": {},
   "outputs": [
    {
     "name": "stderr",
     "output_type": "stream",
     "text": [
      "100%|███████████████████████████████████████████████████████████████████████████████████████████████████████████████████████████████████████████████████████| 296/296 [04:09<00:00,  1.19it/s]\n"
     ]
    }
   ],
   "source": [
    "from tqdm import tqdm\n",
    "\n",
    "importanceMapPath='/home/scai/msr/aiy227514/scratch/Assignment783/Part2/Dataset/ImportanceMaps'\n",
    "targetPath='/home/scai/msr/aiy227514/scratch/Assignment783/Part2/Dataset/CumulativeMinimumEnergy'\n",
    "names = os.listdir(importanceMapPath)\n",
    "for i in tqdm(names):\n",
    "    img=np.array(Image.open(os.path.join(importanceMapPath,i)))\n",
    "    costImage,_= dynamicCost(img, 512,512)\n",
    "    costImage = 255 * (costImage - costImage.min()) / (costImage.max() - costImage.min())\n",
    "    # Convert to uint8\n",
    "    costImage = costImage.astype(np.uint8)\n",
    "    tempIM = Image.fromarray(costImage)\n",
    "    tempIM.save(os.path.join(targetPath,i))\n",
    "#     plt.imshow(costImage)\n",
    "#     plt.show()\n",
    "#     break"
   ]
  },
  {
   "cell_type": "code",
   "execution_count": null,
   "metadata": {},
   "outputs": [],
   "source": []
  },
  {
   "cell_type": "code",
   "execution_count": null,
   "metadata": {},
   "outputs": [],
   "source": []
  },
  {
   "cell_type": "code",
   "execution_count": null,
   "metadata": {},
   "outputs": [],
   "source": []
  },
  {
   "cell_type": "code",
   "execution_count": null,
   "metadata": {},
   "outputs": [],
   "source": []
  },
  {
   "cell_type": "code",
   "execution_count": 1,
   "metadata": {},
   "outputs": [],
   "source": [
    "from transforms2 import DCT, DST\n",
    "from helper import RGBtoGRAY\n",
    "\n",
    "\n",
    "def getImportanceMap(img_RGB):\n",
    "    cosineTransform=DCT()\n",
    "    sineTransform=DST()\n",
    "\n",
    "    # to perform DCT we need to first get the grayscale of the image\n",
    "    img_gray=RGBtoGRAY(img_RGB)\n",
    "\n",
    "    # #Performing DCT\n",
    "    DCT_transformed_img= cosineTransform.transform(cosineTransform.transform(img_gray).T ).T\n",
    "\n",
    "    partialX= sineTransform.transform( cosineTransform.transform(img_gray=DCT_transformed_img) )\n",
    "    partialY =sineTransform.transform( cosineTransform.transform(img_gray=DCT_transformed_img.T) ).T\n",
    "    #calculating Importance map based on partial derivatives\n",
    "    ImportanceMap=np.abs(partialX)+np.abs(partialY)\n",
    "    ImportanceMap = 255 * (ImportanceMap - ImportanceMap.min()) / (ImportanceMap.max() - ImportanceMap.min())\n",
    "    \n",
    "    return ImportanceMap"
   ]
  },
  {
   "cell_type": "code",
   "execution_count": 8,
   "metadata": {},
   "outputs": [
    {
     "name": "stderr",
     "output_type": "stream",
     "text": [
      "100%|█████████████████████████████████████████| 296/296 [05:26<00:00,  1.10s/it]\n"
     ]
    }
   ],
   "source": [
    "from tqdm import tqdm\n",
    "import os\n",
    "import numpy as np\n",
    "GT='/home/scai/msr/aiy227514/scratch/Assignment783/Part2/Dataset/PERCEPT'\n",
    "targetPath='/home/scai/msr/aiy227514/scratch/Assignment783/Part2/Dataset/ImportanceMapAfterSC'\n",
    "names = os.listdir(GT)\n",
    "for i in tqdm(names):\n",
    "    img=np.array(Image.open(os.path.join(GT,i)))\n",
    "    tempIM = Image.fromarray(getImportanceMap(img).astype(np.uint8))\n",
    "    tempIM.save(os.path.join(targetPath,i))"
   ]
  },
  {
   "cell_type": "code",
   "execution_count": null,
   "metadata": {},
   "outputs": [],
   "source": []
  }
 ],
 "metadata": {
  "kernelspec": {
   "display_name": "col783",
   "language": "python",
   "name": "col783"
  },
  "language_info": {
   "codemirror_mode": {
    "name": "ipython",
    "version": 3
   },
   "file_extension": ".py",
   "mimetype": "text/x-python",
   "name": "python",
   "nbconvert_exporter": "python",
   "pygments_lexer": "ipython3",
   "version": "3.9.7"
  }
 },
 "nbformat": 4,
 "nbformat_minor": 2
}
